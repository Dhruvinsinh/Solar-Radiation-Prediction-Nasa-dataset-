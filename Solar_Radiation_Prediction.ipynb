{
  "nbformat": 4,
  "nbformat_minor": 0,
  "metadata": {
    "colab": {
      "name": "Solar Radiation Prediction.ipynb",
      "provenance": [],
      "collapsed_sections": []
    },
    "kernelspec": {
      "name": "python3",
      "display_name": "Python 3"
    },
    "language_info": {
      "name": "python"
    }
  },
  "cells": [
    {
      "cell_type": "code",
      "metadata": {
        "colab": {
          "base_uri": "https://localhost:8080/",
          "height": 195
        },
        "id": "0CFX3xIvcwJy",
        "outputId": "bba7bef6-4a83-4805-e6be-b59911e9a56d"
      },
      "source": [
        "import pandas as pd\n",
        "data=pd.read_csv('/content/SolarPrediction.csv')\n",
        "data.head()"
      ],
      "execution_count": 2,
      "outputs": [
        {
          "output_type": "execute_result",
          "data": {
            "text/html": [
              "<div>\n",
              "<style scoped>\n",
              "    .dataframe tbody tr th:only-of-type {\n",
              "        vertical-align: middle;\n",
              "    }\n",
              "\n",
              "    .dataframe tbody tr th {\n",
              "        vertical-align: top;\n",
              "    }\n",
              "\n",
              "    .dataframe thead th {\n",
              "        text-align: right;\n",
              "    }\n",
              "</style>\n",
              "<table border=\"1\" class=\"dataframe\">\n",
              "  <thead>\n",
              "    <tr style=\"text-align: right;\">\n",
              "      <th></th>\n",
              "      <th>UNIXTime</th>\n",
              "      <th>Data</th>\n",
              "      <th>Time</th>\n",
              "      <th>Radiation</th>\n",
              "      <th>Temperature</th>\n",
              "      <th>Pressure</th>\n",
              "      <th>Humidity</th>\n",
              "      <th>WindDirection(Degrees)</th>\n",
              "      <th>Speed</th>\n",
              "      <th>TimeSunRise</th>\n",
              "      <th>TimeSunSet</th>\n",
              "    </tr>\n",
              "  </thead>\n",
              "  <tbody>\n",
              "    <tr>\n",
              "      <th>0</th>\n",
              "      <td>1475229326</td>\n",
              "      <td>9/29/2016 12:00:00 AM</td>\n",
              "      <td>23:55:26</td>\n",
              "      <td>1.21</td>\n",
              "      <td>48</td>\n",
              "      <td>30.46</td>\n",
              "      <td>59</td>\n",
              "      <td>177.39</td>\n",
              "      <td>5.62</td>\n",
              "      <td>06:13:00</td>\n",
              "      <td>18:13:00</td>\n",
              "    </tr>\n",
              "    <tr>\n",
              "      <th>1</th>\n",
              "      <td>1475229023</td>\n",
              "      <td>9/29/2016 12:00:00 AM</td>\n",
              "      <td>23:50:23</td>\n",
              "      <td>1.21</td>\n",
              "      <td>48</td>\n",
              "      <td>30.46</td>\n",
              "      <td>58</td>\n",
              "      <td>176.78</td>\n",
              "      <td>3.37</td>\n",
              "      <td>06:13:00</td>\n",
              "      <td>18:13:00</td>\n",
              "    </tr>\n",
              "    <tr>\n",
              "      <th>2</th>\n",
              "      <td>1475228726</td>\n",
              "      <td>9/29/2016 12:00:00 AM</td>\n",
              "      <td>23:45:26</td>\n",
              "      <td>1.23</td>\n",
              "      <td>48</td>\n",
              "      <td>30.46</td>\n",
              "      <td>57</td>\n",
              "      <td>158.75</td>\n",
              "      <td>3.37</td>\n",
              "      <td>06:13:00</td>\n",
              "      <td>18:13:00</td>\n",
              "    </tr>\n",
              "    <tr>\n",
              "      <th>3</th>\n",
              "      <td>1475228421</td>\n",
              "      <td>9/29/2016 12:00:00 AM</td>\n",
              "      <td>23:40:21</td>\n",
              "      <td>1.21</td>\n",
              "      <td>48</td>\n",
              "      <td>30.46</td>\n",
              "      <td>60</td>\n",
              "      <td>137.71</td>\n",
              "      <td>3.37</td>\n",
              "      <td>06:13:00</td>\n",
              "      <td>18:13:00</td>\n",
              "    </tr>\n",
              "    <tr>\n",
              "      <th>4</th>\n",
              "      <td>1475228124</td>\n",
              "      <td>9/29/2016 12:00:00 AM</td>\n",
              "      <td>23:35:24</td>\n",
              "      <td>1.17</td>\n",
              "      <td>48</td>\n",
              "      <td>30.46</td>\n",
              "      <td>62</td>\n",
              "      <td>104.95</td>\n",
              "      <td>5.62</td>\n",
              "      <td>06:13:00</td>\n",
              "      <td>18:13:00</td>\n",
              "    </tr>\n",
              "  </tbody>\n",
              "</table>\n",
              "</div>"
            ],
            "text/plain": [
              "     UNIXTime                   Data      Time  ...  Speed  TimeSunRise  TimeSunSet\n",
              "0  1475229326  9/29/2016 12:00:00 AM  23:55:26  ...   5.62     06:13:00    18:13:00\n",
              "1  1475229023  9/29/2016 12:00:00 AM  23:50:23  ...   3.37     06:13:00    18:13:00\n",
              "2  1475228726  9/29/2016 12:00:00 AM  23:45:26  ...   3.37     06:13:00    18:13:00\n",
              "3  1475228421  9/29/2016 12:00:00 AM  23:40:21  ...   3.37     06:13:00    18:13:00\n",
              "4  1475228124  9/29/2016 12:00:00 AM  23:35:24  ...   5.62     06:13:00    18:13:00\n",
              "\n",
              "[5 rows x 11 columns]"
            ]
          },
          "metadata": {
            "tags": []
          },
          "execution_count": 2
        }
      ]
    },
    {
      "cell_type": "code",
      "metadata": {
        "colab": {
          "base_uri": "https://localhost:8080/",
          "height": 195
        },
        "id": "-ikptlj_R3I-",
        "outputId": "d0825311-e8b6-4932-c84c-b8d88d19c27d"
      },
      "source": [
        "data['Data']=pd.to_datetime(data['Data'])\n",
        "data['Month']=data['Data'].dt.month\n",
        "data['Day']=data['Data'].dt.day\n",
        "data['Year']=data['Data'].dt.year\n",
        "data=data.drop(columns=[\"Data\"])\n",
        "data.head()\n"
      ],
      "execution_count": 3,
      "outputs": [
        {
          "output_type": "execute_result",
          "data": {
            "text/html": [
              "<div>\n",
              "<style scoped>\n",
              "    .dataframe tbody tr th:only-of-type {\n",
              "        vertical-align: middle;\n",
              "    }\n",
              "\n",
              "    .dataframe tbody tr th {\n",
              "        vertical-align: top;\n",
              "    }\n",
              "\n",
              "    .dataframe thead th {\n",
              "        text-align: right;\n",
              "    }\n",
              "</style>\n",
              "<table border=\"1\" class=\"dataframe\">\n",
              "  <thead>\n",
              "    <tr style=\"text-align: right;\">\n",
              "      <th></th>\n",
              "      <th>UNIXTime</th>\n",
              "      <th>Time</th>\n",
              "      <th>Radiation</th>\n",
              "      <th>Temperature</th>\n",
              "      <th>Pressure</th>\n",
              "      <th>Humidity</th>\n",
              "      <th>WindDirection(Degrees)</th>\n",
              "      <th>Speed</th>\n",
              "      <th>TimeSunRise</th>\n",
              "      <th>TimeSunSet</th>\n",
              "      <th>Month</th>\n",
              "      <th>Day</th>\n",
              "      <th>Year</th>\n",
              "    </tr>\n",
              "  </thead>\n",
              "  <tbody>\n",
              "    <tr>\n",
              "      <th>0</th>\n",
              "      <td>1475229326</td>\n",
              "      <td>23:55:26</td>\n",
              "      <td>1.21</td>\n",
              "      <td>48</td>\n",
              "      <td>30.46</td>\n",
              "      <td>59</td>\n",
              "      <td>177.39</td>\n",
              "      <td>5.62</td>\n",
              "      <td>06:13:00</td>\n",
              "      <td>18:13:00</td>\n",
              "      <td>9</td>\n",
              "      <td>29</td>\n",
              "      <td>2016</td>\n",
              "    </tr>\n",
              "    <tr>\n",
              "      <th>1</th>\n",
              "      <td>1475229023</td>\n",
              "      <td>23:50:23</td>\n",
              "      <td>1.21</td>\n",
              "      <td>48</td>\n",
              "      <td>30.46</td>\n",
              "      <td>58</td>\n",
              "      <td>176.78</td>\n",
              "      <td>3.37</td>\n",
              "      <td>06:13:00</td>\n",
              "      <td>18:13:00</td>\n",
              "      <td>9</td>\n",
              "      <td>29</td>\n",
              "      <td>2016</td>\n",
              "    </tr>\n",
              "    <tr>\n",
              "      <th>2</th>\n",
              "      <td>1475228726</td>\n",
              "      <td>23:45:26</td>\n",
              "      <td>1.23</td>\n",
              "      <td>48</td>\n",
              "      <td>30.46</td>\n",
              "      <td>57</td>\n",
              "      <td>158.75</td>\n",
              "      <td>3.37</td>\n",
              "      <td>06:13:00</td>\n",
              "      <td>18:13:00</td>\n",
              "      <td>9</td>\n",
              "      <td>29</td>\n",
              "      <td>2016</td>\n",
              "    </tr>\n",
              "    <tr>\n",
              "      <th>3</th>\n",
              "      <td>1475228421</td>\n",
              "      <td>23:40:21</td>\n",
              "      <td>1.21</td>\n",
              "      <td>48</td>\n",
              "      <td>30.46</td>\n",
              "      <td>60</td>\n",
              "      <td>137.71</td>\n",
              "      <td>3.37</td>\n",
              "      <td>06:13:00</td>\n",
              "      <td>18:13:00</td>\n",
              "      <td>9</td>\n",
              "      <td>29</td>\n",
              "      <td>2016</td>\n",
              "    </tr>\n",
              "    <tr>\n",
              "      <th>4</th>\n",
              "      <td>1475228124</td>\n",
              "      <td>23:35:24</td>\n",
              "      <td>1.17</td>\n",
              "      <td>48</td>\n",
              "      <td>30.46</td>\n",
              "      <td>62</td>\n",
              "      <td>104.95</td>\n",
              "      <td>5.62</td>\n",
              "      <td>06:13:00</td>\n",
              "      <td>18:13:00</td>\n",
              "      <td>9</td>\n",
              "      <td>29</td>\n",
              "      <td>2016</td>\n",
              "    </tr>\n",
              "  </tbody>\n",
              "</table>\n",
              "</div>"
            ],
            "text/plain": [
              "     UNIXTime      Time  Radiation  Temperature  ...  TimeSunSet  Month  Day  Year\n",
              "0  1475229326  23:55:26       1.21           48  ...    18:13:00      9   29  2016\n",
              "1  1475229023  23:50:23       1.21           48  ...    18:13:00      9   29  2016\n",
              "2  1475228726  23:45:26       1.23           48  ...    18:13:00      9   29  2016\n",
              "3  1475228421  23:40:21       1.21           48  ...    18:13:00      9   29  2016\n",
              "4  1475228124  23:35:24       1.17           48  ...    18:13:00      9   29  2016\n",
              "\n",
              "[5 rows x 13 columns]"
            ]
          },
          "metadata": {
            "tags": []
          },
          "execution_count": 3
        }
      ]
    },
    {
      "cell_type": "code",
      "metadata": {
        "colab": {
          "base_uri": "https://localhost:8080/",
          "height": 215
        },
        "id": "-ChqN_bfTkpQ",
        "outputId": "81087032-988b-4182-abfc-f5de7ea0cf55"
      },
      "source": [
        "data['Time']=pd.to_datetime(data['Time'])\n",
        "data['Hour']=data['Time'].dt.hour\n",
        "data['Minute']=data['Time'].dt.minute\n",
        "data['Second']=data['Time'].dt.second\n",
        "data=data.drop(columns=['Time'])\n",
        "data.head()"
      ],
      "execution_count": 4,
      "outputs": [
        {
          "output_type": "execute_result",
          "data": {
            "text/html": [
              "<div>\n",
              "<style scoped>\n",
              "    .dataframe tbody tr th:only-of-type {\n",
              "        vertical-align: middle;\n",
              "    }\n",
              "\n",
              "    .dataframe tbody tr th {\n",
              "        vertical-align: top;\n",
              "    }\n",
              "\n",
              "    .dataframe thead th {\n",
              "        text-align: right;\n",
              "    }\n",
              "</style>\n",
              "<table border=\"1\" class=\"dataframe\">\n",
              "  <thead>\n",
              "    <tr style=\"text-align: right;\">\n",
              "      <th></th>\n",
              "      <th>UNIXTime</th>\n",
              "      <th>Radiation</th>\n",
              "      <th>Temperature</th>\n",
              "      <th>Pressure</th>\n",
              "      <th>Humidity</th>\n",
              "      <th>WindDirection(Degrees)</th>\n",
              "      <th>Speed</th>\n",
              "      <th>TimeSunRise</th>\n",
              "      <th>TimeSunSet</th>\n",
              "      <th>Month</th>\n",
              "      <th>Day</th>\n",
              "      <th>Year</th>\n",
              "      <th>Hour</th>\n",
              "      <th>Minute</th>\n",
              "      <th>Second</th>\n",
              "    </tr>\n",
              "  </thead>\n",
              "  <tbody>\n",
              "    <tr>\n",
              "      <th>0</th>\n",
              "      <td>1475229326</td>\n",
              "      <td>1.21</td>\n",
              "      <td>48</td>\n",
              "      <td>30.46</td>\n",
              "      <td>59</td>\n",
              "      <td>177.39</td>\n",
              "      <td>5.62</td>\n",
              "      <td>06:13:00</td>\n",
              "      <td>18:13:00</td>\n",
              "      <td>9</td>\n",
              "      <td>29</td>\n",
              "      <td>2016</td>\n",
              "      <td>23</td>\n",
              "      <td>55</td>\n",
              "      <td>26</td>\n",
              "    </tr>\n",
              "    <tr>\n",
              "      <th>1</th>\n",
              "      <td>1475229023</td>\n",
              "      <td>1.21</td>\n",
              "      <td>48</td>\n",
              "      <td>30.46</td>\n",
              "      <td>58</td>\n",
              "      <td>176.78</td>\n",
              "      <td>3.37</td>\n",
              "      <td>06:13:00</td>\n",
              "      <td>18:13:00</td>\n",
              "      <td>9</td>\n",
              "      <td>29</td>\n",
              "      <td>2016</td>\n",
              "      <td>23</td>\n",
              "      <td>50</td>\n",
              "      <td>23</td>\n",
              "    </tr>\n",
              "    <tr>\n",
              "      <th>2</th>\n",
              "      <td>1475228726</td>\n",
              "      <td>1.23</td>\n",
              "      <td>48</td>\n",
              "      <td>30.46</td>\n",
              "      <td>57</td>\n",
              "      <td>158.75</td>\n",
              "      <td>3.37</td>\n",
              "      <td>06:13:00</td>\n",
              "      <td>18:13:00</td>\n",
              "      <td>9</td>\n",
              "      <td>29</td>\n",
              "      <td>2016</td>\n",
              "      <td>23</td>\n",
              "      <td>45</td>\n",
              "      <td>26</td>\n",
              "    </tr>\n",
              "    <tr>\n",
              "      <th>3</th>\n",
              "      <td>1475228421</td>\n",
              "      <td>1.21</td>\n",
              "      <td>48</td>\n",
              "      <td>30.46</td>\n",
              "      <td>60</td>\n",
              "      <td>137.71</td>\n",
              "      <td>3.37</td>\n",
              "      <td>06:13:00</td>\n",
              "      <td>18:13:00</td>\n",
              "      <td>9</td>\n",
              "      <td>29</td>\n",
              "      <td>2016</td>\n",
              "      <td>23</td>\n",
              "      <td>40</td>\n",
              "      <td>21</td>\n",
              "    </tr>\n",
              "    <tr>\n",
              "      <th>4</th>\n",
              "      <td>1475228124</td>\n",
              "      <td>1.17</td>\n",
              "      <td>48</td>\n",
              "      <td>30.46</td>\n",
              "      <td>62</td>\n",
              "      <td>104.95</td>\n",
              "      <td>5.62</td>\n",
              "      <td>06:13:00</td>\n",
              "      <td>18:13:00</td>\n",
              "      <td>9</td>\n",
              "      <td>29</td>\n",
              "      <td>2016</td>\n",
              "      <td>23</td>\n",
              "      <td>35</td>\n",
              "      <td>24</td>\n",
              "    </tr>\n",
              "  </tbody>\n",
              "</table>\n",
              "</div>"
            ],
            "text/plain": [
              "     UNIXTime  Radiation  Temperature  Pressure  ...  Year  Hour  Minute Second\n",
              "0  1475229326       1.21           48     30.46  ...  2016    23      55     26\n",
              "1  1475229023       1.21           48     30.46  ...  2016    23      50     23\n",
              "2  1475228726       1.23           48     30.46  ...  2016    23      45     26\n",
              "3  1475228421       1.21           48     30.46  ...  2016    23      40     21\n",
              "4  1475228124       1.17           48     30.46  ...  2016    23      35     24\n",
              "\n",
              "[5 rows x 15 columns]"
            ]
          },
          "metadata": {
            "tags": []
          },
          "execution_count": 4
        }
      ]
    },
    {
      "cell_type": "code",
      "metadata": {
        "colab": {
          "base_uri": "https://localhost:8080/",
          "height": 215
        },
        "id": "tfopugD1UdB5",
        "outputId": "9ef3fa62-c5fb-48b5-aad3-aef5f65d2889"
      },
      "source": [
        "data['TimeSunRise']=pd.to_datetime(data['TimeSunRise'])\n",
        "data['TimeSunRiseHour']=data['TimeSunRise'].dt.hour\n",
        "data['TimeSunRiseMinute']=data['TimeSunRise'].dt.minute\n",
        "data['TimeSunRiseSecond']=data['TimeSunRise'].dt.second\n",
        "data=data.drop(columns=['TimeSunRise'])\n",
        "data.head()"
      ],
      "execution_count": 5,
      "outputs": [
        {
          "output_type": "execute_result",
          "data": {
            "text/html": [
              "<div>\n",
              "<style scoped>\n",
              "    .dataframe tbody tr th:only-of-type {\n",
              "        vertical-align: middle;\n",
              "    }\n",
              "\n",
              "    .dataframe tbody tr th {\n",
              "        vertical-align: top;\n",
              "    }\n",
              "\n",
              "    .dataframe thead th {\n",
              "        text-align: right;\n",
              "    }\n",
              "</style>\n",
              "<table border=\"1\" class=\"dataframe\">\n",
              "  <thead>\n",
              "    <tr style=\"text-align: right;\">\n",
              "      <th></th>\n",
              "      <th>UNIXTime</th>\n",
              "      <th>Radiation</th>\n",
              "      <th>Temperature</th>\n",
              "      <th>Pressure</th>\n",
              "      <th>Humidity</th>\n",
              "      <th>WindDirection(Degrees)</th>\n",
              "      <th>Speed</th>\n",
              "      <th>TimeSunSet</th>\n",
              "      <th>Month</th>\n",
              "      <th>Day</th>\n",
              "      <th>Year</th>\n",
              "      <th>Hour</th>\n",
              "      <th>Minute</th>\n",
              "      <th>Second</th>\n",
              "      <th>TimeSunRiseHour</th>\n",
              "      <th>TimeSunRiseMinute</th>\n",
              "      <th>TimeSunRiseSecond</th>\n",
              "    </tr>\n",
              "  </thead>\n",
              "  <tbody>\n",
              "    <tr>\n",
              "      <th>0</th>\n",
              "      <td>1475229326</td>\n",
              "      <td>1.21</td>\n",
              "      <td>48</td>\n",
              "      <td>30.46</td>\n",
              "      <td>59</td>\n",
              "      <td>177.39</td>\n",
              "      <td>5.62</td>\n",
              "      <td>18:13:00</td>\n",
              "      <td>9</td>\n",
              "      <td>29</td>\n",
              "      <td>2016</td>\n",
              "      <td>23</td>\n",
              "      <td>55</td>\n",
              "      <td>26</td>\n",
              "      <td>6</td>\n",
              "      <td>13</td>\n",
              "      <td>0</td>\n",
              "    </tr>\n",
              "    <tr>\n",
              "      <th>1</th>\n",
              "      <td>1475229023</td>\n",
              "      <td>1.21</td>\n",
              "      <td>48</td>\n",
              "      <td>30.46</td>\n",
              "      <td>58</td>\n",
              "      <td>176.78</td>\n",
              "      <td>3.37</td>\n",
              "      <td>18:13:00</td>\n",
              "      <td>9</td>\n",
              "      <td>29</td>\n",
              "      <td>2016</td>\n",
              "      <td>23</td>\n",
              "      <td>50</td>\n",
              "      <td>23</td>\n",
              "      <td>6</td>\n",
              "      <td>13</td>\n",
              "      <td>0</td>\n",
              "    </tr>\n",
              "    <tr>\n",
              "      <th>2</th>\n",
              "      <td>1475228726</td>\n",
              "      <td>1.23</td>\n",
              "      <td>48</td>\n",
              "      <td>30.46</td>\n",
              "      <td>57</td>\n",
              "      <td>158.75</td>\n",
              "      <td>3.37</td>\n",
              "      <td>18:13:00</td>\n",
              "      <td>9</td>\n",
              "      <td>29</td>\n",
              "      <td>2016</td>\n",
              "      <td>23</td>\n",
              "      <td>45</td>\n",
              "      <td>26</td>\n",
              "      <td>6</td>\n",
              "      <td>13</td>\n",
              "      <td>0</td>\n",
              "    </tr>\n",
              "    <tr>\n",
              "      <th>3</th>\n",
              "      <td>1475228421</td>\n",
              "      <td>1.21</td>\n",
              "      <td>48</td>\n",
              "      <td>30.46</td>\n",
              "      <td>60</td>\n",
              "      <td>137.71</td>\n",
              "      <td>3.37</td>\n",
              "      <td>18:13:00</td>\n",
              "      <td>9</td>\n",
              "      <td>29</td>\n",
              "      <td>2016</td>\n",
              "      <td>23</td>\n",
              "      <td>40</td>\n",
              "      <td>21</td>\n",
              "      <td>6</td>\n",
              "      <td>13</td>\n",
              "      <td>0</td>\n",
              "    </tr>\n",
              "    <tr>\n",
              "      <th>4</th>\n",
              "      <td>1475228124</td>\n",
              "      <td>1.17</td>\n",
              "      <td>48</td>\n",
              "      <td>30.46</td>\n",
              "      <td>62</td>\n",
              "      <td>104.95</td>\n",
              "      <td>5.62</td>\n",
              "      <td>18:13:00</td>\n",
              "      <td>9</td>\n",
              "      <td>29</td>\n",
              "      <td>2016</td>\n",
              "      <td>23</td>\n",
              "      <td>35</td>\n",
              "      <td>24</td>\n",
              "      <td>6</td>\n",
              "      <td>13</td>\n",
              "      <td>0</td>\n",
              "    </tr>\n",
              "  </tbody>\n",
              "</table>\n",
              "</div>"
            ],
            "text/plain": [
              "     UNIXTime  Radiation  ...  TimeSunRiseMinute  TimeSunRiseSecond\n",
              "0  1475229326       1.21  ...                 13                  0\n",
              "1  1475229023       1.21  ...                 13                  0\n",
              "2  1475228726       1.23  ...                 13                  0\n",
              "3  1475228421       1.21  ...                 13                  0\n",
              "4  1475228124       1.17  ...                 13                  0\n",
              "\n",
              "[5 rows x 17 columns]"
            ]
          },
          "metadata": {
            "tags": []
          },
          "execution_count": 5
        }
      ]
    },
    {
      "cell_type": "code",
      "metadata": {
        "colab": {
          "base_uri": "https://localhost:8080/",
          "height": 215
        },
        "id": "41irgL1rU6as",
        "outputId": "8a51dc93-ba07-44c2-d158-486bbbd91dff"
      },
      "source": [
        "data['TimeSunSet']=pd.to_datetime(data['TimeSunSet'])\n",
        "data['TimeSunSeteHour']=data['TimeSunSet'].dt.hour\n",
        "data['TimeSunSetMinute']=data['TimeSunSet'].dt.minute\n",
        "data['TimeSunSetSecond']=data['TimeSunSet'].dt.second\n",
        "data=data.drop(columns=['TimeSunSet'])\n",
        "data.head()"
      ],
      "execution_count": 6,
      "outputs": [
        {
          "output_type": "execute_result",
          "data": {
            "text/html": [
              "<div>\n",
              "<style scoped>\n",
              "    .dataframe tbody tr th:only-of-type {\n",
              "        vertical-align: middle;\n",
              "    }\n",
              "\n",
              "    .dataframe tbody tr th {\n",
              "        vertical-align: top;\n",
              "    }\n",
              "\n",
              "    .dataframe thead th {\n",
              "        text-align: right;\n",
              "    }\n",
              "</style>\n",
              "<table border=\"1\" class=\"dataframe\">\n",
              "  <thead>\n",
              "    <tr style=\"text-align: right;\">\n",
              "      <th></th>\n",
              "      <th>UNIXTime</th>\n",
              "      <th>Radiation</th>\n",
              "      <th>Temperature</th>\n",
              "      <th>Pressure</th>\n",
              "      <th>Humidity</th>\n",
              "      <th>WindDirection(Degrees)</th>\n",
              "      <th>Speed</th>\n",
              "      <th>Month</th>\n",
              "      <th>Day</th>\n",
              "      <th>Year</th>\n",
              "      <th>Hour</th>\n",
              "      <th>Minute</th>\n",
              "      <th>Second</th>\n",
              "      <th>TimeSunRiseHour</th>\n",
              "      <th>TimeSunRiseMinute</th>\n",
              "      <th>TimeSunRiseSecond</th>\n",
              "      <th>TimeSunSeteHour</th>\n",
              "      <th>TimeSunSetMinute</th>\n",
              "      <th>TimeSunSetSecond</th>\n",
              "    </tr>\n",
              "  </thead>\n",
              "  <tbody>\n",
              "    <tr>\n",
              "      <th>0</th>\n",
              "      <td>1475229326</td>\n",
              "      <td>1.21</td>\n",
              "      <td>48</td>\n",
              "      <td>30.46</td>\n",
              "      <td>59</td>\n",
              "      <td>177.39</td>\n",
              "      <td>5.62</td>\n",
              "      <td>9</td>\n",
              "      <td>29</td>\n",
              "      <td>2016</td>\n",
              "      <td>23</td>\n",
              "      <td>55</td>\n",
              "      <td>26</td>\n",
              "      <td>6</td>\n",
              "      <td>13</td>\n",
              "      <td>0</td>\n",
              "      <td>18</td>\n",
              "      <td>13</td>\n",
              "      <td>0</td>\n",
              "    </tr>\n",
              "    <tr>\n",
              "      <th>1</th>\n",
              "      <td>1475229023</td>\n",
              "      <td>1.21</td>\n",
              "      <td>48</td>\n",
              "      <td>30.46</td>\n",
              "      <td>58</td>\n",
              "      <td>176.78</td>\n",
              "      <td>3.37</td>\n",
              "      <td>9</td>\n",
              "      <td>29</td>\n",
              "      <td>2016</td>\n",
              "      <td>23</td>\n",
              "      <td>50</td>\n",
              "      <td>23</td>\n",
              "      <td>6</td>\n",
              "      <td>13</td>\n",
              "      <td>0</td>\n",
              "      <td>18</td>\n",
              "      <td>13</td>\n",
              "      <td>0</td>\n",
              "    </tr>\n",
              "    <tr>\n",
              "      <th>2</th>\n",
              "      <td>1475228726</td>\n",
              "      <td>1.23</td>\n",
              "      <td>48</td>\n",
              "      <td>30.46</td>\n",
              "      <td>57</td>\n",
              "      <td>158.75</td>\n",
              "      <td>3.37</td>\n",
              "      <td>9</td>\n",
              "      <td>29</td>\n",
              "      <td>2016</td>\n",
              "      <td>23</td>\n",
              "      <td>45</td>\n",
              "      <td>26</td>\n",
              "      <td>6</td>\n",
              "      <td>13</td>\n",
              "      <td>0</td>\n",
              "      <td>18</td>\n",
              "      <td>13</td>\n",
              "      <td>0</td>\n",
              "    </tr>\n",
              "    <tr>\n",
              "      <th>3</th>\n",
              "      <td>1475228421</td>\n",
              "      <td>1.21</td>\n",
              "      <td>48</td>\n",
              "      <td>30.46</td>\n",
              "      <td>60</td>\n",
              "      <td>137.71</td>\n",
              "      <td>3.37</td>\n",
              "      <td>9</td>\n",
              "      <td>29</td>\n",
              "      <td>2016</td>\n",
              "      <td>23</td>\n",
              "      <td>40</td>\n",
              "      <td>21</td>\n",
              "      <td>6</td>\n",
              "      <td>13</td>\n",
              "      <td>0</td>\n",
              "      <td>18</td>\n",
              "      <td>13</td>\n",
              "      <td>0</td>\n",
              "    </tr>\n",
              "    <tr>\n",
              "      <th>4</th>\n",
              "      <td>1475228124</td>\n",
              "      <td>1.17</td>\n",
              "      <td>48</td>\n",
              "      <td>30.46</td>\n",
              "      <td>62</td>\n",
              "      <td>104.95</td>\n",
              "      <td>5.62</td>\n",
              "      <td>9</td>\n",
              "      <td>29</td>\n",
              "      <td>2016</td>\n",
              "      <td>23</td>\n",
              "      <td>35</td>\n",
              "      <td>24</td>\n",
              "      <td>6</td>\n",
              "      <td>13</td>\n",
              "      <td>0</td>\n",
              "      <td>18</td>\n",
              "      <td>13</td>\n",
              "      <td>0</td>\n",
              "    </tr>\n",
              "  </tbody>\n",
              "</table>\n",
              "</div>"
            ],
            "text/plain": [
              "     UNIXTime  Radiation  ...  TimeSunSetMinute  TimeSunSetSecond\n",
              "0  1475229326       1.21  ...                13                 0\n",
              "1  1475229023       1.21  ...                13                 0\n",
              "2  1475228726       1.23  ...                13                 0\n",
              "3  1475228421       1.21  ...                13                 0\n",
              "4  1475228124       1.17  ...                13                 0\n",
              "\n",
              "[5 rows x 19 columns]"
            ]
          },
          "metadata": {
            "tags": []
          },
          "execution_count": 6
        }
      ]
    },
    {
      "cell_type": "code",
      "metadata": {
        "colab": {
          "base_uri": "https://localhost:8080/"
        },
        "id": "-xBXMYKiVIlB",
        "outputId": "73dd7e0c-199f-4d6c-8fb6-20ae0aeafd60"
      },
      "source": [
        "data.dtypes"
      ],
      "execution_count": 7,
      "outputs": [
        {
          "output_type": "execute_result",
          "data": {
            "text/plain": [
              "UNIXTime                    int64\n",
              "Radiation                 float64\n",
              "Temperature                 int64\n",
              "Pressure                  float64\n",
              "Humidity                    int64\n",
              "WindDirection(Degrees)    float64\n",
              "Speed                     float64\n",
              "Month                       int64\n",
              "Day                         int64\n",
              "Year                        int64\n",
              "Hour                        int64\n",
              "Minute                      int64\n",
              "Second                      int64\n",
              "TimeSunRiseHour             int64\n",
              "TimeSunRiseMinute           int64\n",
              "TimeSunRiseSecond           int64\n",
              "TimeSunSeteHour             int64\n",
              "TimeSunSetMinute            int64\n",
              "TimeSunSetSecond            int64\n",
              "dtype: object"
            ]
          },
          "metadata": {
            "tags": []
          },
          "execution_count": 7
        }
      ]
    },
    {
      "cell_type": "code",
      "metadata": {
        "colab": {
          "base_uri": "https://localhost:8080/"
        },
        "id": "UaIof6HAWnXD",
        "outputId": "6dcd7a1e-0d15-4efe-ac31-0175a7529700"
      },
      "source": [
        "#abs value in 0 0.5 not skewed\n",
        "#0.5 to 1 skew\n",
        "#>1 highly skewed \n",
        "data.skew()"
      ],
      "execution_count": 8,
      "outputs": [
        {
          "output_type": "execute_result",
          "data": {
            "text/plain": [
              "UNIXTime                  0.009365\n",
              "Radiation                 1.369681\n",
              "Temperature               0.522103\n",
              "Pressure                 -1.226962\n",
              "Humidity                 -0.776280\n",
              "WindDirection(Degrees)    0.568612\n",
              "Speed                     1.469814\n",
              "Month                    -0.014397\n",
              "Day                      -0.061036\n",
              "Year                      0.000000\n",
              "Hour                     -0.002702\n",
              "Minute                   -0.005167\n",
              "Second                    0.836122\n",
              "TimeSunRiseHour           0.000000\n",
              "TimeSunRiseMinute         0.474942\n",
              "TimeSunRiseSecond         0.000000\n",
              "TimeSunSeteHour           0.638762\n",
              "TimeSunSetMinute         -0.922972\n",
              "TimeSunSetSecond          0.000000\n",
              "dtype: float64"
            ]
          },
          "metadata": {
            "tags": []
          },
          "execution_count": 8
        }
      ]
    },
    {
      "cell_type": "code",
      "metadata": {
        "colab": {
          "base_uri": "https://localhost:8080/",
          "height": 298
        },
        "id": "Rzl5sFTIg956",
        "outputId": "fd8b8206-46ed-4430-8af2-2c8d3967d315"
      },
      "source": [
        "import numpy as np\n",
        "data['transformed_Speed']=(data['Speed'])**0.6\n",
        "data[['Speed','transformed_Speed']].hist()\n",
        "print(\"skew\",data['transformed_Speed'].skew())"
      ],
      "execution_count": 9,
      "outputs": [
        {
          "output_type": "stream",
          "text": [
            "skew 0.18473310613060862\n"
          ],
          "name": "stdout"
        },
        {
          "output_type": "display_data",
          "data": {
            "image/png": "[encoded data removed]",
            "text/plain": [
              "<Figure size 432x288 with 2 Axes>"
            ]
          },
          "metadata": {
            "tags": [],
            "needs_background": "light"
          }
        }
      ]
    },
    {
      "cell_type": "code",
      "metadata": {
        "colab": {
          "base_uri": "https://localhost:8080/",
          "height": 298
        },
        "id": "VbyvK5fagpD-",
        "outputId": "2a2d393d-fda0-4a08-85f7-fd257043881f"
      },
      "source": [
        "import numpy as np\n",
        "data['transformed_WindDirection(Degrees)']=(data['WindDirection(Degrees)'])**0.8\n",
        "data[['WindDirection(Degrees)','transformed_WindDirection(Degrees)']].hist()\n",
        "print(\"skew\",data['transformed_WindDirection(Degrees)'].skew())"
      ],
      "execution_count": 10,
      "outputs": [
        {
          "output_type": "stream",
          "text": [
            "skew 0.20308982696478572\n"
          ],
          "name": "stdout"
        },
        {
          "output_type": "display_data",
          "data": {
            "image/png": "[encoded data removed]",
            "text/plain": [
              "<Figure size 432x288 with 2 Axes>"
            ]
          },
          "metadata": {
            "tags": [],
            "needs_background": "light"
          }
        }
      ]
    },
    {
      "cell_type": "code",
      "metadata": {
        "colab": {
          "base_uri": "https://localhost:8080/",
          "height": 311
        },
        "id": "Soygo5wJfoja",
        "outputId": "5e8e26bd-820d-40b3-e892-5e9ca6b13131"
      },
      "source": [
        "import numpy as np\n",
        "data['transformed_Humidity']=(data['Humidity'])**14\n",
        "data[['Humidity','transformed_Humidity']].hist()\n",
        "print(\"skew\",data['transformed_Humidity'].skew())"
      ],
      "execution_count": 11,
      "outputs": [
        {
          "output_type": "stream",
          "text": [
            "skew 0.25507010326322527\n"
          ],
          "name": "stdout"
        },
        {
          "output_type": "display_data",
          "data": {
            "image/png": "[encoded data removed]",
            "text/plain": [
              "<Figure size 432x288 with 2 Axes>"
            ]
          },
          "metadata": {
            "tags": [],
            "needs_background": "light"
          }
        }
      ]
    },
    {
      "cell_type": "code",
      "metadata": {
        "colab": {
          "base_uri": "https://localhost:8080/",
          "height": 298
        },
        "id": "FjIGnW7ffref",
        "outputId": "dd7e2cc6-045a-4e1d-eec0-1adbfb175377"
      },
      "source": [
        "import numpy as np\n",
        "data['transformed_pressure']=(data['Pressure']/30)**140\n",
        "data[['Pressure','transformed_pressure']].hist()\n",
        "print(\"skew\",data['transformed_pressure'].skew())"
      ],
      "execution_count": 12,
      "outputs": [
        {
          "output_type": "stream",
          "text": [
            "skew -0.304258765788359\n"
          ],
          "name": "stdout"
        },
        {
          "output_type": "display_data",
          "data": {
            "image/png": "[encoded data removed]",
            "text/plain": [
              "<Figure size 432x288 with 2 Axes>"
            ]
          },
          "metadata": {
            "tags": [],
            "needs_background": "light"
          }
        }
      ]
    },
    {
      "cell_type": "code",
      "metadata": {
        "colab": {
          "base_uri": "https://localhost:8080/",
          "height": 298
        },
        "id": "l10k-vbQZIID",
        "outputId": "a02de020-e584-494f-ebbc-eb1dd5327fab"
      },
      "source": [
        "import numpy as np\n",
        "data['transformed_temprature']=np.log10(data['Temperature'])\n",
        "data[['Temperature','transformed_temprature']].hist()\n",
        "data['transformed_temprature'].skew()"
      ],
      "execution_count": 13,
      "outputs": [
        {
          "output_type": "execute_result",
          "data": {
            "text/plain": [
              "0.26153936652833903"
            ]
          },
          "metadata": {
            "tags": []
          },
          "execution_count": 13
        },
        {
          "output_type": "display_data",
          "data": {
            "image/png": "[encoded data removed]",
            "text/plain": [
              "<Figure size 432x288 with 2 Axes>"
            ]
          },
          "metadata": {
            "tags": [],
            "needs_background": "light"
          }
        }
      ]
    },
    {
      "cell_type": "code",
      "metadata": {
        "id": "0RHfDe-NiFA5"
      },
      "source": [
        "data=data.drop(columns=['Temperature','Pressure','Humidity','WindDirection(Degrees)','Speed'])"
      ],
      "execution_count": 14,
      "outputs": []
    },
    {
      "cell_type": "code",
      "metadata": {
        "colab": {
          "base_uri": "https://localhost:8080/"
        },
        "id": "fVEPxXxih_Jh",
        "outputId": "d267c7fe-9345-4671-c913-a585e68ed8d4"
      },
      "source": [
        "data.skew()"
      ],
      "execution_count": 15,
      "outputs": [
        {
          "output_type": "execute_result",
          "data": {
            "text/plain": [
              "UNIXTime                              0.009365\n",
              "Radiation                             1.369681\n",
              "Month                                -0.014397\n",
              "Day                                  -0.061036\n",
              "Year                                  0.000000\n",
              "Hour                                 -0.002702\n",
              "Minute                               -0.005167\n",
              "Second                                0.836122\n",
              "TimeSunRiseHour                       0.000000\n",
              "TimeSunRiseMinute                     0.474942\n",
              "TimeSunRiseSecond                     0.000000\n",
              "TimeSunSeteHour                       0.638762\n",
              "TimeSunSetMinute                     -0.922972\n",
              "TimeSunSetSecond                      0.000000\n",
              "transformed_Speed                     0.184733\n",
              "transformed_WindDirection(Degrees)    0.203090\n",
              "transformed_Humidity                  0.255070\n",
              "transformed_pressure                 -0.304259\n",
              "transformed_temprature                0.261539\n",
              "dtype: float64"
            ]
          },
          "metadata": {
            "tags": []
          },
          "execution_count": 15
        }
      ]
    },
    {
      "cell_type": "code",
      "metadata": {
        "colab": {
          "base_uri": "https://localhost:8080/"
        },
        "id": "2DbbjxbKVOHh",
        "outputId": "2a1cc355-4720-4b0c-b2a6-7c37641f35d0"
      },
      "source": [
        "data.kurtosis()"
      ],
      "execution_count": 16,
      "outputs": [
        {
          "output_type": "execute_result",
          "data": {
            "text/plain": [
              "UNIXTime                             -1.140545\n",
              "Radiation                             0.511084\n",
              "Month                                -1.311075\n",
              "Day                                  -1.171890\n",
              "Year                                  0.000000\n",
              "Hour                                 -1.211934\n",
              "Minute                               -1.216089\n",
              "Second                                0.552472\n",
              "TimeSunRiseHour                       0.000000\n",
              "TimeSunRiseMinute                    -1.109302\n",
              "TimeSunRiseSecond                     0.000000\n",
              "TimeSunSeteHour                      -1.592081\n",
              "TimeSunSetMinute                     -0.372045\n",
              "TimeSunSetSecond                      0.000000\n",
              "transformed_Speed                     1.533525\n",
              "transformed_WindDirection(Degrees)   -0.064391\n",
              "transformed_Humidity                 -0.824403\n",
              "transformed_pressure                  0.583702\n",
              "transformed_temprature               -0.419977\n",
              "dtype: float64"
            ]
          },
          "metadata": {
            "tags": []
          },
          "execution_count": 16
        }
      ]
    },
    {
      "cell_type": "code",
      "metadata": {
        "colab": {
          "base_uri": "https://localhost:8080/"
        },
        "id": "IlsEoMERkPev",
        "outputId": "99cea903-0813-42d8-946f-28e293b93fb9"
      },
      "source": [
        "data['transformed_Speed'].describe()"
      ],
      "execution_count": 17,
      "outputs": [
        {
          "output_type": "execute_result",
          "data": {
            "text/plain": [
              "count    32686.000000\n",
              "mean         2.882725\n",
              "std          1.010095\n",
              "min          0.000000\n",
              "25%          2.072898\n",
              "50%          2.817356\n",
              "75%          3.448140\n",
              "max          9.214526\n",
              "Name: transformed_Speed, dtype: float64"
            ]
          },
          "metadata": {
            "tags": []
          },
          "execution_count": 17
        }
      ]
    },
    {
      "cell_type": "code",
      "metadata": {
        "colab": {
          "base_uri": "https://localhost:8080/"
        },
        "id": "Nc1iQYuMkbzM",
        "outputId": "06b5c667-080d-406a-bfec-f0acfcecfb8b"
      },
      "source": [
        "data['transformed_Speed']=data[data['transformed_Speed']<=data['transformed_Speed'].quantile(0.99)].copy()\n",
        "print(data['transformed_Speed'].describe())"
      ],
      "execution_count": 18,
      "outputs": [
        {
          "output_type": "stream",
          "text": [
            "count    3.244500e+04\n",
            "mean     1.478023e+09\n",
            "std      2.998932e+06\n",
            "min      1.472724e+09\n",
            "25%      1.475531e+09\n",
            "50%      1.477994e+09\n",
            "75%      1.480439e+09\n",
            "max      1.483265e+09\n",
            "Name: transformed_Speed, dtype: float64\n"
          ],
          "name": "stdout"
        }
      ]
    },
    {
      "cell_type": "code",
      "metadata": {
        "colab": {
          "base_uri": "https://localhost:8080/",
          "height": 630
        },
        "id": "mRzrJPEprC0Y",
        "outputId": "877f05a0-d387-47b0-8faf-d304f0f72f55"
      },
      "source": [
        "data.corr()"
      ],
      "execution_count": 19,
      "outputs": [
        {
          "output_type": "execute_result",
          "data": {
            "text/html": [
              "<div>\n",
              "<style scoped>\n",
              "    .dataframe tbody tr th:only-of-type {\n",
              "        vertical-align: middle;\n",
              "    }\n",
              "\n",
              "    .dataframe tbody tr th {\n",
              "        vertical-align: top;\n",
              "    }\n",
              "\n",
              "    .dataframe thead th {\n",
              "        text-align: right;\n",
              "    }\n",
              "</style>\n",
              "<table border=\"1\" class=\"dataframe\">\n",
              "  <thead>\n",
              "    <tr style=\"text-align: right;\">\n",
              "      <th></th>\n",
              "      <th>UNIXTime</th>\n",
              "      <th>Radiation</th>\n",
              "      <th>Month</th>\n",
              "      <th>Day</th>\n",
              "      <th>Year</th>\n",
              "      <th>Hour</th>\n",
              "      <th>Minute</th>\n",
              "      <th>Second</th>\n",
              "      <th>TimeSunRiseHour</th>\n",
              "      <th>TimeSunRiseMinute</th>\n",
              "      <th>TimeSunRiseSecond</th>\n",
              "      <th>TimeSunSeteHour</th>\n",
              "      <th>TimeSunSetMinute</th>\n",
              "      <th>TimeSunSetSecond</th>\n",
              "      <th>transformed_Speed</th>\n",
              "      <th>transformed_WindDirection(Degrees)</th>\n",
              "      <th>transformed_Humidity</th>\n",
              "      <th>transformed_pressure</th>\n",
              "      <th>transformed_temprature</th>\n",
              "    </tr>\n",
              "  </thead>\n",
              "  <tbody>\n",
              "    <tr>\n",
              "      <th>UNIXTime</th>\n",
              "      <td>1.000000</td>\n",
              "      <td>-0.081286</td>\n",
              "      <td>0.968235</td>\n",
              "      <td>0.286457</td>\n",
              "      <td>NaN</td>\n",
              "      <td>0.001056</td>\n",
              "      <td>0.000406</td>\n",
              "      <td>0.231002</td>\n",
              "      <td>NaN</td>\n",
              "      <td>0.981908</td>\n",
              "      <td>NaN</td>\n",
              "      <td>-0.818884</td>\n",
              "      <td>0.586612</td>\n",
              "      <td>NaN</td>\n",
              "      <td>1.000000</td>\n",
              "      <td>0.155478</td>\n",
              "      <td>-0.025509</td>\n",
              "      <td>-0.282549</td>\n",
              "      <td>-0.378956</td>\n",
              "    </tr>\n",
              "    <tr>\n",
              "      <th>Radiation</th>\n",
              "      <td>-0.081286</td>\n",
              "      <td>1.000000</td>\n",
              "      <td>-0.095450</td>\n",
              "      <td>0.039978</td>\n",
              "      <td>NaN</td>\n",
              "      <td>0.004398</td>\n",
              "      <td>-0.000730</td>\n",
              "      <td>-0.031270</td>\n",
              "      <td>NaN</td>\n",
              "      <td>-0.092850</td>\n",
              "      <td>NaN</td>\n",
              "      <td>0.048719</td>\n",
              "      <td>-0.039816</td>\n",
              "      <td>NaN</td>\n",
              "      <td>-0.082047</td>\n",
              "      <td>-0.270390</td>\n",
              "      <td>0.053957</td>\n",
              "      <td>0.125047</td>\n",
              "      <td>0.717308</td>\n",
              "    </tr>\n",
              "    <tr>\n",
              "      <th>Month</th>\n",
              "      <td>0.968235</td>\n",
              "      <td>-0.095450</td>\n",
              "      <td>1.000000</td>\n",
              "      <td>0.038027</td>\n",
              "      <td>NaN</td>\n",
              "      <td>-0.005396</td>\n",
              "      <td>0.000168</td>\n",
              "      <td>0.220563</td>\n",
              "      <td>NaN</td>\n",
              "      <td>0.952472</td>\n",
              "      <td>NaN</td>\n",
              "      <td>-0.784783</td>\n",
              "      <td>0.541883</td>\n",
              "      <td>NaN</td>\n",
              "      <td>0.967931</td>\n",
              "      <td>0.182599</td>\n",
              "      <td>-0.029887</td>\n",
              "      <td>-0.290855</td>\n",
              "      <td>-0.363987</td>\n",
              "    </tr>\n",
              "    <tr>\n",
              "      <th>Day</th>\n",
              "      <td>0.286457</td>\n",
              "      <td>0.039978</td>\n",
              "      <td>0.038027</td>\n",
              "      <td>1.000000</td>\n",
              "      <td>NaN</td>\n",
              "      <td>-0.008010</td>\n",
              "      <td>-0.000196</td>\n",
              "      <td>0.089078</td>\n",
              "      <td>NaN</td>\n",
              "      <td>0.274522</td>\n",
              "      <td>NaN</td>\n",
              "      <td>-0.263575</td>\n",
              "      <td>0.265662</td>\n",
              "      <td>NaN</td>\n",
              "      <td>0.287136</td>\n",
              "      <td>-0.074917</td>\n",
              "      <td>0.011658</td>\n",
              "      <td>-0.022179</td>\n",
              "      <td>-0.126968</td>\n",
              "    </tr>\n",
              "    <tr>\n",
              "      <th>Year</th>\n",
              "      <td>NaN</td>\n",
              "      <td>NaN</td>\n",
              "      <td>NaN</td>\n",
              "      <td>NaN</td>\n",
              "      <td>NaN</td>\n",
              "      <td>NaN</td>\n",
              "      <td>NaN</td>\n",
              "      <td>NaN</td>\n",
              "      <td>NaN</td>\n",
              "      <td>NaN</td>\n",
              "      <td>NaN</td>\n",
              "      <td>NaN</td>\n",
              "      <td>NaN</td>\n",
              "      <td>NaN</td>\n",
              "      <td>NaN</td>\n",
              "      <td>NaN</td>\n",
              "      <td>NaN</td>\n",
              "      <td>NaN</td>\n",
              "      <td>NaN</td>\n",
              "    </tr>\n",
              "    <tr>\n",
              "      <th>Hour</th>\n",
              "      <td>0.001056</td>\n",
              "      <td>0.004398</td>\n",
              "      <td>-0.005396</td>\n",
              "      <td>-0.008010</td>\n",
              "      <td>NaN</td>\n",
              "      <td>1.000000</td>\n",
              "      <td>-0.004052</td>\n",
              "      <td>0.004199</td>\n",
              "      <td>NaN</td>\n",
              "      <td>-0.006772</td>\n",
              "      <td>NaN</td>\n",
              "      <td>0.008629</td>\n",
              "      <td>-0.007056</td>\n",
              "      <td>NaN</td>\n",
              "      <td>-0.002353</td>\n",
              "      <td>-0.087956</td>\n",
              "      <td>-0.028047</td>\n",
              "      <td>0.106695</td>\n",
              "      <td>0.209461</td>\n",
              "    </tr>\n",
              "    <tr>\n",
              "      <th>Minute</th>\n",
              "      <td>0.000406</td>\n",
              "      <td>-0.000730</td>\n",
              "      <td>0.000168</td>\n",
              "      <td>-0.000196</td>\n",
              "      <td>NaN</td>\n",
              "      <td>-0.004052</td>\n",
              "      <td>1.000000</td>\n",
              "      <td>0.002517</td>\n",
              "      <td>NaN</td>\n",
              "      <td>-0.000158</td>\n",
              "      <td>NaN</td>\n",
              "      <td>0.001052</td>\n",
              "      <td>-0.002215</td>\n",
              "      <td>NaN</td>\n",
              "      <td>0.000335</td>\n",
              "      <td>-0.000808</td>\n",
              "      <td>0.006308</td>\n",
              "      <td>0.001732</td>\n",
              "      <td>-0.001857</td>\n",
              "    </tr>\n",
              "    <tr>\n",
              "      <th>Second</th>\n",
              "      <td>0.231002</td>\n",
              "      <td>-0.031270</td>\n",
              "      <td>0.220563</td>\n",
              "      <td>0.089078</td>\n",
              "      <td>NaN</td>\n",
              "      <td>0.004199</td>\n",
              "      <td>0.002517</td>\n",
              "      <td>1.000000</td>\n",
              "      <td>NaN</td>\n",
              "      <td>0.258917</td>\n",
              "      <td>NaN</td>\n",
              "      <td>-0.037743</td>\n",
              "      <td>0.003571</td>\n",
              "      <td>NaN</td>\n",
              "      <td>0.232005</td>\n",
              "      <td>-0.028703</td>\n",
              "      <td>-0.004385</td>\n",
              "      <td>-0.048503</td>\n",
              "      <td>-0.032337</td>\n",
              "    </tr>\n",
              "    <tr>\n",
              "      <th>TimeSunRiseHour</th>\n",
              "      <td>NaN</td>\n",
              "      <td>NaN</td>\n",
              "      <td>NaN</td>\n",
              "      <td>NaN</td>\n",
              "      <td>NaN</td>\n",
              "      <td>NaN</td>\n",
              "      <td>NaN</td>\n",
              "      <td>NaN</td>\n",
              "      <td>NaN</td>\n",
              "      <td>NaN</td>\n",
              "      <td>NaN</td>\n",
              "      <td>NaN</td>\n",
              "      <td>NaN</td>\n",
              "      <td>NaN</td>\n",
              "      <td>NaN</td>\n",
              "      <td>NaN</td>\n",
              "      <td>NaN</td>\n",
              "      <td>NaN</td>\n",
              "      <td>NaN</td>\n",
              "    </tr>\n",
              "    <tr>\n",
              "      <th>TimeSunRiseMinute</th>\n",
              "      <td>0.981908</td>\n",
              "      <td>-0.092850</td>\n",
              "      <td>0.952472</td>\n",
              "      <td>0.274522</td>\n",
              "      <td>NaN</td>\n",
              "      <td>-0.006772</td>\n",
              "      <td>-0.000158</td>\n",
              "      <td>0.258917</td>\n",
              "      <td>NaN</td>\n",
              "      <td>1.000000</td>\n",
              "      <td>NaN</td>\n",
              "      <td>-0.742329</td>\n",
              "      <td>0.562851</td>\n",
              "      <td>NaN</td>\n",
              "      <td>0.981769</td>\n",
              "      <td>0.178800</td>\n",
              "      <td>-0.017062</td>\n",
              "      <td>-0.327110</td>\n",
              "      <td>-0.391221</td>\n",
              "    </tr>\n",
              "    <tr>\n",
              "      <th>TimeSunRiseSecond</th>\n",
              "      <td>NaN</td>\n",
              "      <td>NaN</td>\n",
              "      <td>NaN</td>\n",
              "      <td>NaN</td>\n",
              "      <td>NaN</td>\n",
              "      <td>NaN</td>\n",
              "      <td>NaN</td>\n",
              "      <td>NaN</td>\n",
              "      <td>NaN</td>\n",
              "      <td>NaN</td>\n",
              "      <td>NaN</td>\n",
              "      <td>NaN</td>\n",
              "      <td>NaN</td>\n",
              "      <td>NaN</td>\n",
              "      <td>NaN</td>\n",
              "      <td>NaN</td>\n",
              "      <td>NaN</td>\n",
              "      <td>NaN</td>\n",
              "      <td>NaN</td>\n",
              "    </tr>\n",
              "    <tr>\n",
              "      <th>TimeSunSeteHour</th>\n",
              "      <td>-0.818884</td>\n",
              "      <td>0.048719</td>\n",
              "      <td>-0.784783</td>\n",
              "      <td>-0.263575</td>\n",
              "      <td>NaN</td>\n",
              "      <td>0.008629</td>\n",
              "      <td>0.001052</td>\n",
              "      <td>-0.037743</td>\n",
              "      <td>NaN</td>\n",
              "      <td>-0.742329</td>\n",
              "      <td>NaN</td>\n",
              "      <td>1.000000</td>\n",
              "      <td>-0.873471</td>\n",
              "      <td>NaN</td>\n",
              "      <td>-0.818646</td>\n",
              "      <td>-0.084796</td>\n",
              "      <td>0.045840</td>\n",
              "      <td>0.116723</td>\n",
              "      <td>0.308978</td>\n",
              "    </tr>\n",
              "    <tr>\n",
              "      <th>TimeSunSetMinute</th>\n",
              "      <td>0.586612</td>\n",
              "      <td>-0.039816</td>\n",
              "      <td>0.541883</td>\n",
              "      <td>0.265662</td>\n",
              "      <td>NaN</td>\n",
              "      <td>-0.007056</td>\n",
              "      <td>-0.002215</td>\n",
              "      <td>0.003571</td>\n",
              "      <td>NaN</td>\n",
              "      <td>0.562851</td>\n",
              "      <td>NaN</td>\n",
              "      <td>-0.873471</td>\n",
              "      <td>1.000000</td>\n",
              "      <td>NaN</td>\n",
              "      <td>0.585587</td>\n",
              "      <td>0.075891</td>\n",
              "      <td>-0.034287</td>\n",
              "      <td>-0.086164</td>\n",
              "      <td>-0.250507</td>\n",
              "    </tr>\n",
              "    <tr>\n",
              "      <th>TimeSunSetSecond</th>\n",
              "      <td>NaN</td>\n",
              "      <td>NaN</td>\n",
              "      <td>NaN</td>\n",
              "      <td>NaN</td>\n",
              "      <td>NaN</td>\n",
              "      <td>NaN</td>\n",
              "      <td>NaN</td>\n",
              "      <td>NaN</td>\n",
              "      <td>NaN</td>\n",
              "      <td>NaN</td>\n",
              "      <td>NaN</td>\n",
              "      <td>NaN</td>\n",
              "      <td>NaN</td>\n",
              "      <td>NaN</td>\n",
              "      <td>NaN</td>\n",
              "      <td>NaN</td>\n",
              "      <td>NaN</td>\n",
              "      <td>NaN</td>\n",
              "      <td>NaN</td>\n",
              "    </tr>\n",
              "    <tr>\n",
              "      <th>transformed_Speed</th>\n",
              "      <td>1.000000</td>\n",
              "      <td>-0.082047</td>\n",
              "      <td>0.967931</td>\n",
              "      <td>0.287136</td>\n",
              "      <td>NaN</td>\n",
              "      <td>-0.002353</td>\n",
              "      <td>0.000335</td>\n",
              "      <td>0.232005</td>\n",
              "      <td>NaN</td>\n",
              "      <td>0.981769</td>\n",
              "      <td>NaN</td>\n",
              "      <td>-0.818646</td>\n",
              "      <td>0.585587</td>\n",
              "      <td>NaN</td>\n",
              "      <td>1.000000</td>\n",
              "      <td>0.150306</td>\n",
              "      <td>-0.030731</td>\n",
              "      <td>-0.271519</td>\n",
              "      <td>-0.381429</td>\n",
              "    </tr>\n",
              "    <tr>\n",
              "      <th>transformed_WindDirection(Degrees)</th>\n",
              "      <td>0.155478</td>\n",
              "      <td>-0.270390</td>\n",
              "      <td>0.182599</td>\n",
              "      <td>-0.074917</td>\n",
              "      <td>NaN</td>\n",
              "      <td>-0.087956</td>\n",
              "      <td>-0.000808</td>\n",
              "      <td>-0.028703</td>\n",
              "      <td>NaN</td>\n",
              "      <td>0.178800</td>\n",
              "      <td>NaN</td>\n",
              "      <td>-0.084796</td>\n",
              "      <td>0.075891</td>\n",
              "      <td>NaN</td>\n",
              "      <td>0.150306</td>\n",
              "      <td>1.000000</td>\n",
              "      <td>0.020599</td>\n",
              "      <td>-0.190947</td>\n",
              "      <td>-0.299742</td>\n",
              "    </tr>\n",
              "    <tr>\n",
              "      <th>transformed_Humidity</th>\n",
              "      <td>-0.025509</td>\n",
              "      <td>0.053957</td>\n",
              "      <td>-0.029887</td>\n",
              "      <td>0.011658</td>\n",
              "      <td>NaN</td>\n",
              "      <td>-0.028047</td>\n",
              "      <td>0.006308</td>\n",
              "      <td>-0.004385</td>\n",
              "      <td>NaN</td>\n",
              "      <td>-0.017062</td>\n",
              "      <td>NaN</td>\n",
              "      <td>0.045840</td>\n",
              "      <td>-0.034287</td>\n",
              "      <td>NaN</td>\n",
              "      <td>-0.030731</td>\n",
              "      <td>0.020599</td>\n",
              "      <td>1.000000</td>\n",
              "      <td>0.029592</td>\n",
              "      <td>0.064690</td>\n",
              "    </tr>\n",
              "    <tr>\n",
              "      <th>transformed_pressure</th>\n",
              "      <td>-0.282549</td>\n",
              "      <td>0.125047</td>\n",
              "      <td>-0.290855</td>\n",
              "      <td>-0.022179</td>\n",
              "      <td>NaN</td>\n",
              "      <td>0.106695</td>\n",
              "      <td>0.001732</td>\n",
              "      <td>-0.048503</td>\n",
              "      <td>NaN</td>\n",
              "      <td>-0.327110</td>\n",
              "      <td>NaN</td>\n",
              "      <td>0.116723</td>\n",
              "      <td>-0.086164</td>\n",
              "      <td>NaN</td>\n",
              "      <td>-0.271519</td>\n",
              "      <td>-0.190947</td>\n",
              "      <td>0.029592</td>\n",
              "      <td>1.000000</td>\n",
              "      <td>0.315433</td>\n",
              "    </tr>\n",
              "    <tr>\n",
              "      <th>transformed_temprature</th>\n",
              "      <td>-0.378956</td>\n",
              "      <td>0.717308</td>\n",
              "      <td>-0.363987</td>\n",
              "      <td>-0.126968</td>\n",
              "      <td>NaN</td>\n",
              "      <td>0.209461</td>\n",
              "      <td>-0.001857</td>\n",
              "      <td>-0.032337</td>\n",
              "      <td>NaN</td>\n",
              "      <td>-0.391221</td>\n",
              "      <td>NaN</td>\n",
              "      <td>0.308978</td>\n",
              "      <td>-0.250507</td>\n",
              "      <td>NaN</td>\n",
              "      <td>-0.381429</td>\n",
              "      <td>-0.299742</td>\n",
              "      <td>0.064690</td>\n",
              "      <td>0.315433</td>\n",
              "      <td>1.000000</td>\n",
              "    </tr>\n",
              "  </tbody>\n",
              "</table>\n",
              "</div>"
            ],
            "text/plain": [
              "                                    UNIXTime  ...  transformed_temprature\n",
              "UNIXTime                            1.000000  ...               -0.378956\n",
              "Radiation                          -0.081286  ...                0.717308\n",
              "Month                               0.968235  ...               -0.363987\n",
              "Day                                 0.286457  ...               -0.126968\n",
              "Year                                     NaN  ...                     NaN\n",
              "Hour                                0.001056  ...                0.209461\n",
              "Minute                              0.000406  ...               -0.001857\n",
              "Second                              0.231002  ...               -0.032337\n",
              "TimeSunRiseHour                          NaN  ...                     NaN\n",
              "TimeSunRiseMinute                   0.981908  ...               -0.391221\n",
              "TimeSunRiseSecond                        NaN  ...                     NaN\n",
              "TimeSunSeteHour                    -0.818884  ...                0.308978\n",
              "TimeSunSetMinute                    0.586612  ...               -0.250507\n",
              "TimeSunSetSecond                         NaN  ...                     NaN\n",
              "transformed_Speed                   1.000000  ...               -0.381429\n",
              "transformed_WindDirection(Degrees)  0.155478  ...               -0.299742\n",
              "transformed_Humidity               -0.025509  ...                0.064690\n",
              "transformed_pressure               -0.282549  ...                0.315433\n",
              "transformed_temprature             -0.378956  ...                1.000000\n",
              "\n",
              "[19 rows x 19 columns]"
            ]
          },
          "metadata": {
            "tags": []
          },
          "execution_count": 19
        }
      ]
    },
    {
      "cell_type": "code",
      "metadata": {
        "colab": {
          "base_uri": "https://localhost:8080/",
          "height": 304
        },
        "id": "CBKOwZQBepeP",
        "outputId": "bcc9bff5-b766-420a-f618-7da3650af250"
      },
      "source": [
        "data.describe()"
      ],
      "execution_count": 20,
      "outputs": [
        {
          "output_type": "execute_result",
          "data": {
            "text/html": [
              "<div>\n",
              "<style scoped>\n",
              "    .dataframe tbody tr th:only-of-type {\n",
              "        vertical-align: middle;\n",
              "    }\n",
              "\n",
              "    .dataframe tbody tr th {\n",
              "        vertical-align: top;\n",
              "    }\n",
              "\n",
              "    .dataframe thead th {\n",
              "        text-align: right;\n",
              "    }\n",
              "</style>\n",
              "<table border=\"1\" class=\"dataframe\">\n",
              "  <thead>\n",
              "    <tr style=\"text-align: right;\">\n",
              "      <th></th>\n",
              "      <th>UNIXTime</th>\n",
              "      <th>Radiation</th>\n",
              "      <th>Month</th>\n",
              "      <th>Day</th>\n",
              "      <th>Year</th>\n",
              "      <th>Hour</th>\n",
              "      <th>Minute</th>\n",
              "      <th>Second</th>\n",
              "      <th>TimeSunRiseHour</th>\n",
              "      <th>TimeSunRiseMinute</th>\n",
              "      <th>TimeSunRiseSecond</th>\n",
              "      <th>TimeSunSeteHour</th>\n",
              "      <th>TimeSunSetMinute</th>\n",
              "      <th>TimeSunSetSecond</th>\n",
              "      <th>transformed_Speed</th>\n",
              "      <th>transformed_WindDirection(Degrees)</th>\n",
              "      <th>transformed_Humidity</th>\n",
              "      <th>transformed_pressure</th>\n",
              "      <th>transformed_temprature</th>\n",
              "    </tr>\n",
              "  </thead>\n",
              "  <tbody>\n",
              "    <tr>\n",
              "      <th>count</th>\n",
              "      <td>3.268600e+04</td>\n",
              "      <td>32686.000000</td>\n",
              "      <td>32686.000000</td>\n",
              "      <td>32686.000000</td>\n",
              "      <td>32686.0</td>\n",
              "      <td>32686.000000</td>\n",
              "      <td>32686.000000</td>\n",
              "      <td>32686.000000</td>\n",
              "      <td>32686.0</td>\n",
              "      <td>32686.000000</td>\n",
              "      <td>32686.0</td>\n",
              "      <td>32686.000000</td>\n",
              "      <td>32686.000000</td>\n",
              "      <td>32686.0</td>\n",
              "      <td>3.244500e+04</td>\n",
              "      <td>32686.000000</td>\n",
              "      <td>3.268600e+04</td>\n",
              "      <td>32686.000000</td>\n",
              "      <td>32686.000000</td>\n",
              "    </tr>\n",
              "    <tr>\n",
              "      <th>mean</th>\n",
              "      <td>1.478047e+09</td>\n",
              "      <td>207.124697</td>\n",
              "      <td>10.526066</td>\n",
              "      <td>15.825766</td>\n",
              "      <td>2016.0</td>\n",
              "      <td>11.557425</td>\n",
              "      <td>27.556691</td>\n",
              "      <td>17.441902</td>\n",
              "      <td>6.0</td>\n",
              "      <td>27.640519</td>\n",
              "      <td>0.0</td>\n",
              "      <td>17.347886</td>\n",
              "      <td>37.317904</td>\n",
              "      <td>0.0</td>\n",
              "      <td>1.478023e+09</td>\n",
              "      <td>51.523645</td>\n",
              "      <td>-3.848964e+17</td>\n",
              "      <td>7.302440</td>\n",
              "      <td>1.705328</td>\n",
              "    </tr>\n",
              "    <tr>\n",
              "      <th>std</th>\n",
              "      <td>3.005037e+06</td>\n",
              "      <td>315.916387</td>\n",
              "      <td>1.096691</td>\n",
              "      <td>8.711824</td>\n",
              "      <td>0.0</td>\n",
              "      <td>6.912034</td>\n",
              "      <td>17.268507</td>\n",
              "      <td>12.951109</td>\n",
              "      <td>0.0</td>\n",
              "      <td>15.518714</td>\n",
              "      <td>0.0</td>\n",
              "      <td>0.476307</td>\n",
              "      <td>15.938416</td>\n",
              "      <td>0.0</td>\n",
              "      <td>2.998932e+06</td>\n",
              "      <td>25.037779</td>\n",
              "      <td>4.820627e+18</td>\n",
              "      <td>1.624267</td>\n",
              "      <td>0.051813</td>\n",
              "    </tr>\n",
              "    <tr>\n",
              "      <th>min</th>\n",
              "      <td>1.472724e+09</td>\n",
              "      <td>1.110000</td>\n",
              "      <td>9.000000</td>\n",
              "      <td>1.000000</td>\n",
              "      <td>2016.0</td>\n",
              "      <td>0.000000</td>\n",
              "      <td>0.000000</td>\n",
              "      <td>0.000000</td>\n",
              "      <td>6.0</td>\n",
              "      <td>7.000000</td>\n",
              "      <td>0.0</td>\n",
              "      <td>17.000000</td>\n",
              "      <td>0.000000</td>\n",
              "      <td>0.0</td>\n",
              "      <td>1.472724e+09</td>\n",
              "      <td>0.145678</td>\n",
              "      <td>-9.093386e+18</td>\n",
              "      <td>2.420250</td>\n",
              "      <td>1.531479</td>\n",
              "    </tr>\n",
              "    <tr>\n",
              "      <th>25%</th>\n",
              "      <td>1.475546e+09</td>\n",
              "      <td>1.230000</td>\n",
              "      <td>10.000000</td>\n",
              "      <td>9.000000</td>\n",
              "      <td>2016.0</td>\n",
              "      <td>6.000000</td>\n",
              "      <td>15.000000</td>\n",
              "      <td>5.000000</td>\n",
              "      <td>6.0</td>\n",
              "      <td>14.000000</td>\n",
              "      <td>0.0</td>\n",
              "      <td>17.000000</td>\n",
              "      <td>26.000000</td>\n",
              "      <td>0.0</td>\n",
              "      <td>1.475531e+09</td>\n",
              "      <td>34.041890</td>\n",
              "      <td>-4.226042e+18</td>\n",
              "      <td>6.387428</td>\n",
              "      <td>1.662758</td>\n",
              "    </tr>\n",
              "    <tr>\n",
              "      <th>50%</th>\n",
              "      <td>1.478026e+09</td>\n",
              "      <td>2.660000</td>\n",
              "      <td>11.000000</td>\n",
              "      <td>16.000000</td>\n",
              "      <td>2016.0</td>\n",
              "      <td>12.000000</td>\n",
              "      <td>30.000000</td>\n",
              "      <td>18.000000</td>\n",
              "      <td>6.0</td>\n",
              "      <td>24.000000</td>\n",
              "      <td>0.0</td>\n",
              "      <td>17.000000</td>\n",
              "      <td>43.000000</td>\n",
              "      <td>0.0</td>\n",
              "      <td>1.477994e+09</td>\n",
              "      <td>54.388164</td>\n",
              "      <td>-1.318446e+18</td>\n",
              "      <td>7.333270</td>\n",
              "      <td>1.698970</td>\n",
              "    </tr>\n",
              "    <tr>\n",
              "      <th>75%</th>\n",
              "      <td>1.480480e+09</td>\n",
              "      <td>354.235000</td>\n",
              "      <td>11.000000</td>\n",
              "      <td>23.000000</td>\n",
              "      <td>2016.0</td>\n",
              "      <td>18.000000</td>\n",
              "      <td>45.000000</td>\n",
              "      <td>22.000000</td>\n",
              "      <td>6.0</td>\n",
              "      <td>40.000000</td>\n",
              "      <td>0.0</td>\n",
              "      <td>18.000000</td>\n",
              "      <td>48.000000</td>\n",
              "      <td>0.0</td>\n",
              "      <td>1.480439e+09</td>\n",
              "      <td>63.516069</td>\n",
              "      <td>2.768306e+18</td>\n",
              "      <td>8.418025</td>\n",
              "      <td>1.740363</td>\n",
              "    </tr>\n",
              "    <tr>\n",
              "      <th>max</th>\n",
              "      <td>1.483265e+09</td>\n",
              "      <td>1601.260000</td>\n",
              "      <td>12.000000</td>\n",
              "      <td>31.000000</td>\n",
              "      <td>2016.0</td>\n",
              "      <td>23.000000</td>\n",
              "      <td>57.000000</td>\n",
              "      <td>59.000000</td>\n",
              "      <td>6.0</td>\n",
              "      <td>57.000000</td>\n",
              "      <td>0.0</td>\n",
              "      <td>18.000000</td>\n",
              "      <td>59.000000</td>\n",
              "      <td>0.0</td>\n",
              "      <td>1.483265e+09</td>\n",
              "      <td>110.915883</td>\n",
              "      <td>9.169742e+18</td>\n",
              "      <td>13.319666</td>\n",
              "      <td>1.851258</td>\n",
              "    </tr>\n",
              "  </tbody>\n",
              "</table>\n",
              "</div>"
            ],
            "text/plain": [
              "           UNIXTime     Radiation  ...  transformed_pressure  transformed_temprature\n",
              "count  3.268600e+04  32686.000000  ...          32686.000000            32686.000000\n",
              "mean   1.478047e+09    207.124697  ...              7.302440                1.705328\n",
              "std    3.005037e+06    315.916387  ...              1.624267                0.051813\n",
              "min    1.472724e+09      1.110000  ...              2.420250                1.531479\n",
              "25%    1.475546e+09      1.230000  ...              6.387428                1.662758\n",
              "50%    1.478026e+09      2.660000  ...              7.333270                1.698970\n",
              "75%    1.480480e+09    354.235000  ...              8.418025                1.740363\n",
              "max    1.483265e+09   1601.260000  ...             13.319666                1.851258\n",
              "\n",
              "[8 rows x 19 columns]"
            ]
          },
          "metadata": {
            "tags": []
          },
          "execution_count": 20
        }
      ]
    },
    {
      "cell_type": "code",
      "metadata": {
        "colab": {
          "base_uri": "https://localhost:8080/",
          "height": 215
        },
        "id": "bg6WIUhRiT9x",
        "outputId": "c4732751-1556-440e-e6ec-c401c75217d0"
      },
      "source": [
        "output=data['Radiation']\n",
        "data=data.drop(columns=['Radiation'])\n",
        "data.head()"
      ],
      "execution_count": 23,
      "outputs": [
        {
          "output_type": "execute_result",
          "data": {
            "text/html": [
              "<div>\n",
              "<style scoped>\n",
              "    .dataframe tbody tr th:only-of-type {\n",
              "        vertical-align: middle;\n",
              "    }\n",
              "\n",
              "    .dataframe tbody tr th {\n",
              "        vertical-align: top;\n",
              "    }\n",
              "\n",
              "    .dataframe thead th {\n",
              "        text-align: right;\n",
              "    }\n",
              "</style>\n",
              "<table border=\"1\" class=\"dataframe\">\n",
              "  <thead>\n",
              "    <tr style=\"text-align: right;\">\n",
              "      <th></th>\n",
              "      <th>UNIXTime</th>\n",
              "      <th>Month</th>\n",
              "      <th>Day</th>\n",
              "      <th>Year</th>\n",
              "      <th>Hour</th>\n",
              "      <th>Minute</th>\n",
              "      <th>Second</th>\n",
              "      <th>TimeSunRiseHour</th>\n",
              "      <th>TimeSunRiseMinute</th>\n",
              "      <th>TimeSunRiseSecond</th>\n",
              "      <th>TimeSunSeteHour</th>\n",
              "      <th>TimeSunSetMinute</th>\n",
              "      <th>TimeSunSetSecond</th>\n",
              "      <th>transformed_Speed</th>\n",
              "      <th>transformed_WindDirection(Degrees)</th>\n",
              "      <th>transformed_Humidity</th>\n",
              "      <th>transformed_pressure</th>\n",
              "      <th>transformed_temprature</th>\n",
              "    </tr>\n",
              "  </thead>\n",
              "  <tbody>\n",
              "    <tr>\n",
              "      <th>0</th>\n",
              "      <td>1475229326</td>\n",
              "      <td>9</td>\n",
              "      <td>29</td>\n",
              "      <td>2016</td>\n",
              "      <td>23</td>\n",
              "      <td>55</td>\n",
              "      <td>26</td>\n",
              "      <td>6</td>\n",
              "      <td>13</td>\n",
              "      <td>0</td>\n",
              "      <td>18</td>\n",
              "      <td>13</td>\n",
              "      <td>0</td>\n",
              "      <td>1.475229e+09</td>\n",
              "      <td>62.971394</td>\n",
              "      <td>2570608273689700457</td>\n",
              "      <td>8.418025</td>\n",
              "      <td>1.681241</td>\n",
              "    </tr>\n",
              "    <tr>\n",
              "      <th>1</th>\n",
              "      <td>1475229023</td>\n",
              "      <td>9</td>\n",
              "      <td>29</td>\n",
              "      <td>2016</td>\n",
              "      <td>23</td>\n",
              "      <td>50</td>\n",
              "      <td>23</td>\n",
              "      <td>6</td>\n",
              "      <td>13</td>\n",
              "      <td>0</td>\n",
              "      <td>18</td>\n",
              "      <td>13</td>\n",
              "      <td>0</td>\n",
              "      <td>1.475229e+09</td>\n",
              "      <td>62.798100</td>\n",
              "      <td>-3673360030439161856</td>\n",
              "      <td>8.418025</td>\n",
              "      <td>1.681241</td>\n",
              "    </tr>\n",
              "    <tr>\n",
              "      <th>2</th>\n",
              "      <td>1475228726</td>\n",
              "      <td>9</td>\n",
              "      <td>29</td>\n",
              "      <td>2016</td>\n",
              "      <td>23</td>\n",
              "      <td>45</td>\n",
              "      <td>26</td>\n",
              "      <td>6</td>\n",
              "      <td>13</td>\n",
              "      <td>0</td>\n",
              "      <td>18</td>\n",
              "      <td>13</td>\n",
              "      <td>0</td>\n",
              "      <td>1.475229e+09</td>\n",
              "      <td>57.619699</td>\n",
              "      <td>-6207602206036503087</td>\n",
              "      <td>8.418025</td>\n",
              "      <td>1.681241</td>\n",
              "    </tr>\n",
              "    <tr>\n",
              "      <th>3</th>\n",
              "      <td>1475228421</td>\n",
              "      <td>9</td>\n",
              "      <td>29</td>\n",
              "      <td>2016</td>\n",
              "      <td>23</td>\n",
              "      <td>40</td>\n",
              "      <td>21</td>\n",
              "      <td>6</td>\n",
              "      <td>13</td>\n",
              "      <td>0</td>\n",
              "      <td>18</td>\n",
              "      <td>13</td>\n",
              "      <td>0</td>\n",
              "      <td>1.475228e+09</td>\n",
              "      <td>51.424773</td>\n",
              "      <td>-280584775750647808</td>\n",
              "      <td>8.418025</td>\n",
              "      <td>1.681241</td>\n",
              "    </tr>\n",
              "    <tr>\n",
              "      <th>4</th>\n",
              "      <td>1475228124</td>\n",
              "      <td>9</td>\n",
              "      <td>29</td>\n",
              "      <td>2016</td>\n",
              "      <td>23</td>\n",
              "      <td>35</td>\n",
              "      <td>24</td>\n",
              "      <td>6</td>\n",
              "      <td>13</td>\n",
              "      <td>0</td>\n",
              "      <td>18</td>\n",
              "      <td>13</td>\n",
              "      <td>0</td>\n",
              "      <td>1.475228e+09</td>\n",
              "      <td>41.379568</td>\n",
              "      <td>4947158521651150848</td>\n",
              "      <td>8.418025</td>\n",
              "      <td>1.681241</td>\n",
              "    </tr>\n",
              "  </tbody>\n",
              "</table>\n",
              "</div>"
            ],
            "text/plain": [
              "     UNIXTime  Month  ...  transformed_pressure  transformed_temprature\n",
              "0  1475229326      9  ...              8.418025                1.681241\n",
              "1  1475229023      9  ...              8.418025                1.681241\n",
              "2  1475228726      9  ...              8.418025                1.681241\n",
              "3  1475228421      9  ...              8.418025                1.681241\n",
              "4  1475228124      9  ...              8.418025                1.681241\n",
              "\n",
              "[5 rows x 18 columns]"
            ]
          },
          "metadata": {
            "tags": []
          },
          "execution_count": 23
        }
      ]
    },
    {
      "cell_type": "code",
      "metadata": {
        "colab": {
          "base_uri": "https://localhost:8080/"
        },
        "id": "gbhg4Y5qk1FI",
        "outputId": "49c7c1b3-a935-4671-cd3c-b5489b22079a"
      },
      "source": [
        "data.dtypes"
      ],
      "execution_count": 24,
      "outputs": [
        {
          "output_type": "execute_result",
          "data": {
            "text/plain": [
              "UNIXTime                                int64\n",
              "Month                                   int64\n",
              "Day                                     int64\n",
              "Year                                    int64\n",
              "Hour                                    int64\n",
              "Minute                                  int64\n",
              "Second                                  int64\n",
              "TimeSunRiseHour                         int64\n",
              "TimeSunRiseMinute                       int64\n",
              "TimeSunRiseSecond                       int64\n",
              "TimeSunSeteHour                         int64\n",
              "TimeSunSetMinute                        int64\n",
              "TimeSunSetSecond                        int64\n",
              "transformed_Speed                     float64\n",
              "transformed_WindDirection(Degrees)    float64\n",
              "transformed_Humidity                    int64\n",
              "transformed_pressure                  float64\n",
              "transformed_temprature                float64\n",
              "dtype: object"
            ]
          },
          "metadata": {
            "tags": []
          },
          "execution_count": 24
        }
      ]
    },
    {
      "cell_type": "code",
      "metadata": {
        "colab": {
          "base_uri": "https://localhost:8080/"
        },
        "id": "c45HX3DtozIq",
        "outputId": "34fc5d40-8c4f-4cf6-9703-758c13a51da4"
      },
      "source": [
        "data.isnull().sum()"
      ],
      "execution_count": 25,
      "outputs": [
        {
          "output_type": "execute_result",
          "data": {
            "text/plain": [
              "UNIXTime                                0\n",
              "Month                                   0\n",
              "Day                                     0\n",
              "Year                                    0\n",
              "Hour                                    0\n",
              "Minute                                  0\n",
              "Second                                  0\n",
              "TimeSunRiseHour                         0\n",
              "TimeSunRiseMinute                       0\n",
              "TimeSunRiseSecond                       0\n",
              "TimeSunSeteHour                         0\n",
              "TimeSunSetMinute                        0\n",
              "TimeSunSetSecond                        0\n",
              "transformed_Speed                     241\n",
              "transformed_WindDirection(Degrees)      0\n",
              "transformed_Humidity                    0\n",
              "transformed_pressure                    0\n",
              "transformed_temprature                  0\n",
              "dtype: int64"
            ]
          },
          "metadata": {
            "tags": []
          },
          "execution_count": 25
        }
      ]
    },
    {
      "cell_type": "code",
      "metadata": {
        "colab": {
          "base_uri": "https://localhost:8080/"
        },
        "id": "agqve7Lbpojw",
        "outputId": "b2b6b9c5-cde9-486e-a0cc-09b459cd76e1"
      },
      "source": [
        "data['transformed_Speed'].median()"
      ],
      "execution_count": 26,
      "outputs": [
        {
          "output_type": "execute_result",
          "data": {
            "text/plain": [
              "1477993521.0"
            ]
          },
          "metadata": {
            "tags": []
          },
          "execution_count": 26
        }
      ]
    },
    {
      "cell_type": "code",
      "metadata": {
        "id": "B1qjNlbNpBI5"
      },
      "source": [
        "data['transformed_Speed']=data['transformed_Speed'].fillna(data['transformed_Speed'].median())"
      ],
      "execution_count": 27,
      "outputs": []
    },
    {
      "cell_type": "code",
      "metadata": {
        "id": "GrRmygCoklYB"
      },
      "source": [
        "from sklearn.model_selection import train_test_split\n",
        "X_train, X_test, y_train, y_test = train_test_split(data,output, test_size=0.20, random_state=42)"
      ],
      "execution_count": 38,
      "outputs": []
    },
    {
      "cell_type": "code",
      "metadata": {
        "colab": {
          "base_uri": "https://localhost:8080/"
        },
        "id": "YWv2Rl2TnVfM",
        "outputId": "ff487708-cb26-4d5c-f9ef-a558a9368b74"
      },
      "source": [
        "!pip install xgboost"
      ],
      "execution_count": 226,
      "outputs": [
        {
          "output_type": "stream",
          "text": [
            "Requirement already satisfied: xgboost in /usr/local/lib/python3.7/dist-packages (0.90)\n",
            "Requirement already satisfied: numpy in /usr/local/lib/python3.7/dist-packages (from xgboost) (1.19.5)\n",
            "Requirement already satisfied: scipy in /usr/local/lib/python3.7/dist-packages (from xgboost) (1.4.1)\n"
          ],
          "name": "stdout"
        }
      ]
    },
    {
      "cell_type": "code",
      "metadata": {
        "colab": {
          "base_uri": "https://localhost:8080/"
        },
        "id": "zxADxIjpnXLQ",
        "outputId": "a6f386a7-fd37-4485-f3f5-09ea6b7bba36"
      },
      "source": [
        "from xgboost import XGBRegressor\n",
        "model = XGBRegressor(n_estimators=50,max_depth=5)\n",
        "model.fit(X_train, y_train)"
      ],
      "execution_count": 82,
      "outputs": [
        {
          "output_type": "stream",
          "text": [
            "[11:10:42] WARNING: /workspace/src/objective/regression_obj.cu:152: reg:linear is now deprecated in favor of reg:squarederror.\n"
          ],
          "name": "stdout"
        },
        {
          "output_type": "execute_result",
          "data": {
            "text/plain": [
              "XGBRegressor(base_score=0.5, booster='gbtree', colsample_bylevel=1,\n",
              "             colsample_bynode=1, colsample_bytree=1, gamma=0,\n",
              "             importance_type='gain', learning_rate=0.1, max_delta_step=0,\n",
              "             max_depth=5, min_child_weight=1, missing=None, n_estimators=50,\n",
              "             n_jobs=1, nthread=None, objective='reg:linear', random_state=0,\n",
              "             reg_alpha=0, reg_lambda=1, scale_pos_weight=1, seed=None,\n",
              "             silent=None, subsample=1, verbosity=1)"
            ]
          },
          "metadata": {
            "tags": []
          },
          "execution_count": 82
        }
      ]
    },
    {
      "cell_type": "code",
      "metadata": {
        "colab": {
          "base_uri": "https://localhost:8080/"
        },
        "id": "ltmzveu7nsmd",
        "outputId": "7dc1ae66-47de-4033-9ae6-66ddee7b54f1"
      },
      "source": [
        "model.score(X_test,y_test)"
      ],
      "execution_count": 83,
      "outputs": [
        {
          "output_type": "execute_result",
          "data": {
            "text/plain": [
              "0.905272441642377"
            ]
          },
          "metadata": {
            "tags": []
          },
          "execution_count": 83
        }
      ]
    },
    {
      "cell_type": "code",
      "metadata": {
        "colab": {
          "base_uri": "https://localhost:8080/"
        },
        "id": "HhJF2qcsuZVT",
        "outputId": "5fffb2c2-c78c-4c1d-b6e7-7668e12febe9"
      },
      "source": [
        "from sklearn.datasets import load_diabetes\n",
        "from sklearn.model_selection import cross_val_score\n",
        "from sklearn.tree import DecisionTreeRegressor\n",
        "from sklearn import tree\n",
        "regressor = DecisionTreeRegressor(random_state=0)\n",
        "regressor.fit(X_train,y_train)\n",
        "cross_val_score(regressor,X_train,y_train, cv=10)"
      ],
      "execution_count": 75,
      "outputs": [
        {
          "output_type": "execute_result",
          "data": {
            "text/plain": [
              "array([0.88543021, 0.88142439, 0.88516278, 0.88999291, 0.89142733,\n",
              "       0.88159907, 0.89692948, 0.89619418, 0.90532167, 0.89757571])"
            ]
          },
          "metadata": {
            "tags": []
          },
          "execution_count": 75
        }
      ]
    },
    {
      "cell_type": "code",
      "metadata": {
        "colab": {
          "base_uri": "https://localhost:8080/"
        },
        "id": "jvEtx9IpvLkw",
        "outputId": "cf607dbe-e66d-40b8-8552-d1944e4eed69"
      },
      "source": [
        "regressor.score(X_test,y_test)"
      ],
      "execution_count": 76,
      "outputs": [
        {
          "output_type": "execute_result",
          "data": {
            "text/plain": [
              "0.8832203119291886"
            ]
          },
          "metadata": {
            "tags": []
          },
          "execution_count": 76
        }
      ]
    },
    {
      "cell_type": "code",
      "metadata": {
        "id": "MW8ZDjniyzM5"
      },
      "source": [
        ""
      ],
      "execution_count": null,
      "outputs": []
    }
  ]
}